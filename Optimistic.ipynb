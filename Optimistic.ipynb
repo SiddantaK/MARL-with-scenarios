{
 "cells": [
  {
   "cell_type": "code",
   "execution_count": 1,
   "id": "8619a42a",
   "metadata": {},
   "outputs": [],
   "source": [
    "import newutils\n",
    "import pandas as pd\n",
    "\n",
    "import matplotlib.pyplot as plt\n",
    "import seaborn as sns\n",
    "%matplotlib inline\n",
    "plt.rc('xtick',labelsize=14)\n",
    "plt.rc('ytick',labelsize=14)\n",
    "plt.rc('legend',fontsize = 14)"
   ]
  },
  {
   "cell_type": "markdown",
   "id": "810b8a0e",
   "metadata": {},
   "source": [
    "## Optimistic Bull Environment"
   ]
  },
  {
   "cell_type": "code",
   "execution_count": 2,
   "id": "e5e071d5",
   "metadata": {
    "scrolled": false
   },
   "outputs": [],
   "source": [
    "import numpy as np\n",
    "# Get the default financial and AC Model parameters for optimistic bull\n",
    "financial_params1, ac_params1 = newutils.get_env_param(optimistic=True)"
   ]
  },
  {
   "cell_type": "code",
   "execution_count": 3,
   "id": "26492f5e",
   "metadata": {},
   "outputs": [
    {
     "data": {
      "text/html": [
       "<table class=\"simpletable\">\n",
       "<caption>Financial Parameters</caption>\n",
       "<tr>\n",
       "  <th>Annual Volatility:</th>  <td>6%</td>  <th>  Bid-Ask Spread:    </th>     <td>0.111</td>  \n",
       "</tr>\n",
       "<tr>\n",
       "  <th>Daily Volatility:</th>  <td>0.4%</td> <th>  Daily Trading Volume:</th> <td>5,000,000</td>\n",
       "</tr>\n",
       "</table>"
      ],
      "text/plain": [
       "<class 'statsmodels.iolib.table.SimpleTable'>"
      ]
     },
     "execution_count": 3,
     "metadata": {},
     "output_type": "execute_result"
    }
   ],
   "source": [
    "financial_params1"
   ]
  },
  {
   "cell_type": "code",
   "execution_count": 4,
   "id": "65640b21",
   "metadata": {},
   "outputs": [
    {
     "data": {
      "text/html": [
       "<table class=\"simpletable\">\n",
       "<caption>Almgren and Chriss Model Parameters</caption>\n",
       "<tr>\n",
       "  <th>Total Number of Shares for Agent1 to Sell:</th>               <td>550,000</td>        <th>  Fixed Cost of Selling per Share:</th>            <td>$0.056</td>        \n",
       "</tr>\n",
       "<tr>\n",
       "  <th>Total Number of Shares for Agent2 to Sell:</th>               <td>550,000</td>        <th>  Trader's Risk Aversion for Agent 1:</th>          <td>1e-06</td>        \n",
       "</tr>\n",
       "<tr>\n",
       "  <th>Starting Price per Share:</th>                                <td>$50.00</td>         <th>  Trader's Risk Aversion for Agent 2:</th>          <td>1e-06</td>        \n",
       "</tr>\n",
       "<tr>\n",
       "  <th>Price Impact for Each 1% of Daily Volume Traded:</th> <td>$2.222222222222222e-06</td> <th>  Permanent Impact Constant:</th>          <td>2.2222222222222222e-07</td>\n",
       "</tr>\n",
       "<tr>\n",
       "  <th>Number of Days to Sell All the Shares:</th>                     <td>60</td>           <th>  Single Step Variance:</th>                        <td>0.036</td>        \n",
       "</tr>\n",
       "<tr>\n",
       "  <th>Number of Trades:</th>                                          <td>60</td>           <th>  Time Interval between trades:</th>                 <td>1.0</td>         \n",
       "</tr>\n",
       "</table>"
      ],
      "text/plain": [
       "<class 'statsmodels.iolib.table.SimpleTable'>"
      ]
     },
     "execution_count": 4,
     "metadata": {},
     "output_type": "execute_result"
    }
   ],
   "source": [
    "ac_params1"
   ]
  },
  {
   "cell_type": "markdown",
   "id": "4abfa1dc",
   "metadata": {},
   "source": [
    "## Cooperative"
   ]
  },
  {
   "cell_type": "code",
   "execution_count": 5,
   "id": "de662c74",
   "metadata": {},
   "outputs": [
    {
     "name": "stdout",
     "output_type": "stream",
     "text": [
      "Episode [100/3200]\tAverage Shortfall for Agent1: $1,252,401.40\n",
      "Episode [100/3200]\tAverage Shortfall for Agent2: $1,271,593.81\n",
      "Episode [200/3200]\tAverage Shortfall for Agent1: $1,374,905.68\n",
      "Episode [200/3200]\tAverage Shortfall for Agent2: $1,374,965.14\n",
      "Episode [300/3200]\tAverage Shortfall for Agent1: $1,375,000.00\n",
      "Episode [300/3200]\tAverage Shortfall for Agent2: $1,375,000.00\n",
      "Episode [400/3200]\tAverage Shortfall for Agent1: $1,375,000.00\n",
      "Episode [400/3200]\tAverage Shortfall for Agent2: $1,375,000.00\n",
      "Episode [500/3200]\tAverage Shortfall for Agent1: $1,375,000.00\n",
      "Episode [500/3200]\tAverage Shortfall for Agent2: $1,375,000.00\n",
      "Episode [600/3200]\tAverage Shortfall for Agent1: $1,375,000.00\n",
      "Episode [600/3200]\tAverage Shortfall for Agent2: $1,375,000.00\n",
      "Episode [700/3200]\tAverage Shortfall for Agent1: $1,375,000.00\n",
      "Episode [700/3200]\tAverage Shortfall for Agent2: $1,375,000.00\n",
      "Episode [800/3200]\tAverage Shortfall for Agent1: $1,357,561.37\n",
      "Episode [800/3200]\tAverage Shortfall for Agent2: $1,367,928.77\n",
      "Episode [900/3200]\tAverage Shortfall for Agent1: $539,080.61\n",
      "Episode [900/3200]\tAverage Shortfall for Agent2: $599,050.44\n",
      "Episode [1000/3200]\tAverage Shortfall for Agent1: $331,098.74\n",
      "Episode [1000/3200]\tAverage Shortfall for Agent2: $330,955.61\n",
      "Episode [1100/3200]\tAverage Shortfall for Agent1: $352,964.90\n",
      "Episode [1100/3200]\tAverage Shortfall for Agent2: $357,530.38\n",
      "Episode [1200/3200]\tAverage Shortfall for Agent1: $337,567.67\n",
      "Episode [1200/3200]\tAverage Shortfall for Agent2: $337,063.74\n",
      "Episode [1300/3200]\tAverage Shortfall for Agent1: $330,957.14\n",
      "Episode [1300/3200]\tAverage Shortfall for Agent2: $329,283.44\n",
      "Episode [1400/3200]\tAverage Shortfall for Agent1: $351,719.09\n",
      "Episode [1400/3200]\tAverage Shortfall for Agent2: $353,438.14\n",
      "Episode [1500/3200]\tAverage Shortfall for Agent1: $355,580.51\n",
      "Episode [1500/3200]\tAverage Shortfall for Agent2: $361,801.75\n",
      "Episode [1600/3200]\tAverage Shortfall for Agent1: $372,449.60\n",
      "Episode [1600/3200]\tAverage Shortfall for Agent2: $368,472.35\n",
      "Episode [1700/3200]\tAverage Shortfall for Agent1: $353,259.04\n",
      "Episode [1700/3200]\tAverage Shortfall for Agent2: $352,928.18\n",
      "Episode [1800/3200]\tAverage Shortfall for Agent1: $343,835.96\n",
      "Episode [1800/3200]\tAverage Shortfall for Agent2: $344,116.59\n",
      "Episode [1900/3200]\tAverage Shortfall for Agent1: $366,085.85\n",
      "Episode [1900/3200]\tAverage Shortfall for Agent2: $364,913.35\n",
      "Episode [2000/3200]\tAverage Shortfall for Agent1: $347,944.96\n",
      "Episode [2000/3200]\tAverage Shortfall for Agent2: $349,636.76\n",
      "Episode [2100/3200]\tAverage Shortfall for Agent1: $357,072.62\n",
      "Episode [2100/3200]\tAverage Shortfall for Agent2: $359,520.56\n",
      "Episode [2200/3200]\tAverage Shortfall for Agent1: $348,710.00\n",
      "Episode [2200/3200]\tAverage Shortfall for Agent2: $349,306.94\n",
      "Episode [2300/3200]\tAverage Shortfall for Agent1: $349,582.82\n",
      "Episode [2300/3200]\tAverage Shortfall for Agent2: $353,217.83\n",
      "Episode [2400/3200]\tAverage Shortfall for Agent1: $361,141.55\n",
      "Episode [2400/3200]\tAverage Shortfall for Agent2: $355,882.89\n",
      "Episode [2500/3200]\tAverage Shortfall for Agent1: $372,022.16\n",
      "Episode [2500/3200]\tAverage Shortfall for Agent2: $370,234.34\n",
      "Episode [2600/3200]\tAverage Shortfall for Agent1: $380,003.68\n",
      "Episode [2600/3200]\tAverage Shortfall for Agent2: $380,360.24\n",
      "Episode [2700/3200]\tAverage Shortfall for Agent1: $349,569.82\n",
      "Episode [2700/3200]\tAverage Shortfall for Agent2: $348,951.13\n",
      "Episode [2800/3200]\tAverage Shortfall for Agent1: $338,905.79\n",
      "Episode [2800/3200]\tAverage Shortfall for Agent2: $340,703.93\n",
      "Episode [2900/3200]\tAverage Shortfall for Agent1: $341,853.51\n",
      "Episode [2900/3200]\tAverage Shortfall for Agent2: $340,905.35\n",
      "Episode [3000/3200]\tAverage Shortfall for Agent1: $360,687.79\n",
      "Episode [3000/3200]\tAverage Shortfall for Agent2: $358,909.71\n",
      "Episode [3100/3200]\tAverage Shortfall for Agent1: $331,365.84\n",
      "Episode [3100/3200]\tAverage Shortfall for Agent2: $337,565.05\n",
      "Episode [3200/3200]\tAverage Shortfall for Agent1: $345,247.47\n",
      "Episode [3200/3200]\tAverage Shortfall for Agent2: $344,227.10\n",
      "\n",
      "Average Implementation Shortfall for Agent1: $608,705.49 \n",
      "\n",
      "\n",
      "Average Implementation Shortfall for Agent2: $611,826.98 \n",
      "\n"
     ]
    }
   ],
   "source": [
    "import numpy as np\n",
    "\n",
    "import optimistic as sca\n",
    "from ddpg_agent import Agent\n",
    "\n",
    "from collections import deque\n",
    "\n",
    "# Create simulation environment\n",
    "env2 = sca.MarketEnvironment(optimistic=True)\n",
    "\n",
    "# Initialize Feed-forward DNNs for Actor and Critic models. \n",
    "agent1 = Agent(state_size=env2.observation_space_dimension(), action_size=env2.action_space_dimension(),random_seed = 1225)\n",
    "agent2 = Agent(state_size=env2.observation_space_dimension(), action_size=env2.action_space_dimension(),random_seed = 108)\n",
    "# Set the liquidation time\n",
    "lqt = 60\n",
    "\n",
    "# Set the number of trades\n",
    "n_trades = 60\n",
    "\n",
    "# Set trader's risk aversion\n",
    "tr1 = 1e-06\n",
    "tr2 = 1e-06\n",
    "\n",
    "# Set the number of episodes to run the simulation\n",
    "episodes = 3200\n",
    "shortfall_list = []\n",
    "shortfall_hist1 = np.array([])\n",
    "shortfall_hist2 = np.array([])\n",
    "shortfall_deque1 = deque(maxlen=100)\n",
    "shortfall_deque2 = deque(maxlen=100)\n",
    "for episode in range(episodes): \n",
    "    # Reset the enviroment\n",
    "    cur_state = env2.reset(seed = episode, liquid_time = lqt, num_trades = n_trades, lamb1 = tr1,lamb2 = tr2)\n",
    "\n",
    "    # set the environment to make transactions\n",
    "    env2.start_transactions()\n",
    "\n",
    "    for i in range(n_trades + 1):\n",
    "      \n",
    "        # Predict the best action for the current state. \n",
    "        cur_state1 = np.delete(cur_state,8)\n",
    "        cur_state2 = np.delete(cur_state,7)\n",
    "        #print(cur_state[5:])\n",
    "        action1 = agent1.act(cur_state1, add_noise = True)\n",
    "        action2 = agent2.act(cur_state2, add_noise = True)\n",
    "        #print(action1,action2)\n",
    "        # Action is performed and new state, reward, info are received. \n",
    "        new_state, reward1, reward2, done1, done2, info = env2.step(action1,action2,'cooperative')\n",
    "        \n",
    "        # current state, action, reward, new state are stored in the experience replay\n",
    "        new_state1 = np.delete(new_state,8)\n",
    "        new_state2 = np.delete(new_state,7)\n",
    "        agent1.step(cur_state1, action1, reward1, new_state1, done1)\n",
    "        agent2.step(cur_state2, action2, reward2, new_state2, done2)\n",
    "        # roll over new state\n",
    "        cur_state = new_state\n",
    "\n",
    "        if info.done1 and info.done2:\n",
    "            shortfall_hist1 = np.append(shortfall_hist1, info.implementation_shortfall1)\n",
    "            shortfall_deque1.append(info.implementation_shortfall1)\n",
    "            \n",
    "            shortfall_hist2 = np.append(shortfall_hist2, info.implementation_shortfall2)\n",
    "            shortfall_deque2.append(info.implementation_shortfall2)\n",
    "            break\n",
    "        \n",
    "    if (episode + 1) % 100 == 0: # print average shortfall over last 100 episodes\n",
    "        print('\\rEpisode [{}/{}]\\tAverage Shortfall for Agent1: ${:,.2f}'.format(episode + 1, episodes, np.mean(shortfall_deque1)))        \n",
    "        print('\\rEpisode [{}/{}]\\tAverage Shortfall for Agent2: ${:,.2f}'.format(episode + 1, episodes, np.mean(shortfall_deque2)))\n",
    "        shortfall_list.append([np.mean(shortfall_deque1),np.mean(shortfall_deque2)])\n",
    "print('\\nAverage Implementation Shortfall for Agent1: ${:,.2f} \\n'.format(np.mean(shortfall_hist1)))\n",
    "print('\\nAverage Implementation Shortfall for Agent2: ${:,.2f} \\n'.format(np.mean(shortfall_hist2)))"
   ]
  },
  {
   "cell_type": "code",
   "execution_count": 6,
   "id": "eede880e",
   "metadata": {},
   "outputs": [],
   "source": [
    "shortfall = np.array(shortfall_list)"
   ]
  },
  {
   "cell_type": "code",
   "execution_count": 8,
   "id": "069c64af",
   "metadata": {},
   "outputs": [],
   "source": [
    "np.save('optimistic-cooperative.npy',shortfall)"
   ]
  },
  {
   "cell_type": "markdown",
   "id": "dc11c880",
   "metadata": {},
   "source": [
    "## Competitive"
   ]
  },
  {
   "cell_type": "code",
   "execution_count": 11,
   "id": "5671efa7",
   "metadata": {},
   "outputs": [
    {
     "name": "stdout",
     "output_type": "stream",
     "text": [
      "Episode [100/3200]\tAverage Shortfall for Agent1: $1,258,196.23\n",
      "Episode [100/3200]\tAverage Shortfall for Agent2: $1,274,209.69\n",
      "Episode [200/3200]\tAverage Shortfall for Agent1: $1,374,922.85\n",
      "Episode [200/3200]\tAverage Shortfall for Agent2: $1,374,789.23\n",
      "Episode [300/3200]\tAverage Shortfall for Agent1: $1,374,999.19\n",
      "Episode [300/3200]\tAverage Shortfall for Agent2: $1,374,997.65\n",
      "Episode [400/3200]\tAverage Shortfall for Agent1: $1,269,592.04\n",
      "Episode [400/3200]\tAverage Shortfall for Agent2: $1,296,873.75\n",
      "Episode [500/3200]\tAverage Shortfall for Agent1: $437,688.96\n",
      "Episode [500/3200]\tAverage Shortfall for Agent2: $427,184.86\n",
      "Episode [600/3200]\tAverage Shortfall for Agent1: $370,071.20\n",
      "Episode [600/3200]\tAverage Shortfall for Agent2: $373,736.93\n",
      "Episode [700/3200]\tAverage Shortfall for Agent1: $337,273.34\n",
      "Episode [700/3200]\tAverage Shortfall for Agent2: $333,766.25\n",
      "Episode [800/3200]\tAverage Shortfall for Agent1: $341,720.93\n",
      "Episode [800/3200]\tAverage Shortfall for Agent2: $338,454.99\n",
      "Episode [900/3200]\tAverage Shortfall for Agent1: $360,857.21\n",
      "Episode [900/3200]\tAverage Shortfall for Agent2: $359,131.92\n",
      "Episode [1000/3200]\tAverage Shortfall for Agent1: $350,170.87\n",
      "Episode [1000/3200]\tAverage Shortfall for Agent2: $348,693.91\n",
      "Episode [1100/3200]\tAverage Shortfall for Agent1: $352,964.90\n",
      "Episode [1100/3200]\tAverage Shortfall for Agent2: $357,530.38\n",
      "Episode [1200/3200]\tAverage Shortfall for Agent1: $337,567.67\n",
      "Episode [1200/3200]\tAverage Shortfall for Agent2: $337,063.74\n",
      "Episode [1300/3200]\tAverage Shortfall for Agent1: $330,957.14\n",
      "Episode [1300/3200]\tAverage Shortfall for Agent2: $329,283.44\n",
      "Episode [1400/3200]\tAverage Shortfall for Agent1: $351,719.09\n",
      "Episode [1400/3200]\tAverage Shortfall for Agent2: $353,438.14\n",
      "Episode [1500/3200]\tAverage Shortfall for Agent1: $355,580.51\n",
      "Episode [1500/3200]\tAverage Shortfall for Agent2: $361,801.75\n",
      "Episode [1600/3200]\tAverage Shortfall for Agent1: $372,449.60\n",
      "Episode [1600/3200]\tAverage Shortfall for Agent2: $368,472.35\n",
      "Episode [1700/3200]\tAverage Shortfall for Agent1: $353,259.04\n",
      "Episode [1700/3200]\tAverage Shortfall for Agent2: $352,928.18\n",
      "Episode [1800/3200]\tAverage Shortfall for Agent1: $343,835.96\n",
      "Episode [1800/3200]\tAverage Shortfall for Agent2: $344,116.59\n",
      "Episode [1900/3200]\tAverage Shortfall for Agent1: $366,085.85\n",
      "Episode [1900/3200]\tAverage Shortfall for Agent2: $364,913.35\n",
      "Episode [2000/3200]\tAverage Shortfall for Agent1: $347,944.96\n",
      "Episode [2000/3200]\tAverage Shortfall for Agent2: $349,636.76\n",
      "Episode [2100/3200]\tAverage Shortfall for Agent1: $357,072.62\n",
      "Episode [2100/3200]\tAverage Shortfall for Agent2: $359,520.56\n",
      "Episode [2200/3200]\tAverage Shortfall for Agent1: $348,710.00\n",
      "Episode [2200/3200]\tAverage Shortfall for Agent2: $349,306.94\n",
      "Episode [2300/3200]\tAverage Shortfall for Agent1: $349,582.82\n",
      "Episode [2300/3200]\tAverage Shortfall for Agent2: $353,217.83\n",
      "Episode [2400/3200]\tAverage Shortfall for Agent1: $361,141.55\n",
      "Episode [2400/3200]\tAverage Shortfall for Agent2: $355,882.89\n",
      "Episode [2500/3200]\tAverage Shortfall for Agent1: $372,022.16\n",
      "Episode [2500/3200]\tAverage Shortfall for Agent2: $370,234.34\n",
      "Episode [2600/3200]\tAverage Shortfall for Agent1: $380,003.68\n",
      "Episode [2600/3200]\tAverage Shortfall for Agent2: $380,360.24\n",
      "Episode [2700/3200]\tAverage Shortfall for Agent1: $349,569.82\n",
      "Episode [2700/3200]\tAverage Shortfall for Agent2: $348,951.13\n",
      "Episode [2800/3200]\tAverage Shortfall for Agent1: $338,905.79\n",
      "Episode [2800/3200]\tAverage Shortfall for Agent2: $340,703.93\n",
      "Episode [2900/3200]\tAverage Shortfall for Agent1: $341,853.51\n",
      "Episode [2900/3200]\tAverage Shortfall for Agent2: $340,905.35\n",
      "Episode [3000/3200]\tAverage Shortfall for Agent1: $360,687.79\n",
      "Episode [3000/3200]\tAverage Shortfall for Agent2: $358,909.71\n",
      "Episode [3100/3200]\tAverage Shortfall for Agent1: $331,365.84\n",
      "Episode [3100/3200]\tAverage Shortfall for Agent2: $337,565.05\n",
      "Episode [3200/3200]\tAverage Shortfall for Agent1: $345,247.47\n",
      "Episode [3200/3200]\tAverage Shortfall for Agent2: $344,227.10\n",
      "\n",
      "Average Implementation Shortfall for Agent1: $475,750.64 \n",
      "\n",
      "\n",
      "Average Implementation Shortfall for Agent2: $476,900.28 \n",
      "\n"
     ]
    }
   ],
   "source": [
    "# Create simulation environment\n",
    "env2 = sca.MarketEnvironment(optimistic=True)\n",
    "\n",
    "# Initialize Feed-forward DNNs for Actor and Critic models. \n",
    "agent1 = Agent(state_size=env2.observation_space_dimension(), action_size=env2.action_space_dimension(),random_seed = 1225)\n",
    "agent2 = Agent(state_size=env2.observation_space_dimension(), action_size=env2.action_space_dimension(),random_seed = 108)\n",
    "# Set the liquidation time\n",
    "lqt = 60\n",
    "\n",
    "# Set the number of trades\n",
    "n_trades = 60\n",
    "\n",
    "# Set trader's risk aversion\n",
    "tr1 = 1e-06\n",
    "tr2 = 1e-06\n",
    "\n",
    "# Set the number of episodes to run the simulation\n",
    "episodes = 3200\n",
    "shortfall_list = []\n",
    "shortfall_hist1 = np.array([])\n",
    "shortfall_hist2 = np.array([])\n",
    "shortfall_deque1 = deque(maxlen=100)\n",
    "shortfall_deque2 = deque(maxlen=100)\n",
    "for episode in range(episodes): \n",
    "    # Reset the enviroment\n",
    "    cur_state = env2.reset(seed = episode, liquid_time = lqt, num_trades = n_trades, lamb1 = tr1,lamb2 = tr2)\n",
    "\n",
    "    # set the environment to make transactions\n",
    "    env2.start_transactions()\n",
    "\n",
    "    for i in range(n_trades + 1):\n",
    "      \n",
    "        # Predict the best action for the current state. \n",
    "        cur_state1 = np.delete(cur_state,8)\n",
    "        cur_state2 = np.delete(cur_state,7)\n",
    "        #print(cur_state[5:])\n",
    "        action1 = agent1.act(cur_state1, add_noise = True)\n",
    "        action2 = agent2.act(cur_state2, add_noise = True)\n",
    "        #print(action1,action2)\n",
    "        # Action is performed and new state, reward, info are received. \n",
    "        new_state, reward1, reward2, done1, done2, info = env2.step(action1,action2,'competitive')\n",
    "        \n",
    "        # current state, action, reward, new state are stored in the experience replay\n",
    "        new_state1 = np.delete(new_state,8)\n",
    "        new_state2 = np.delete(new_state,7)\n",
    "        agent1.step(cur_state1, action1, reward1, new_state1, done1)\n",
    "        agent2.step(cur_state2, action2, reward2, new_state2, done2)\n",
    "        # roll over new state\n",
    "        cur_state = new_state\n",
    "\n",
    "        if info.done1 and info.done2:\n",
    "            shortfall_hist1 = np.append(shortfall_hist1, info.implementation_shortfall1)\n",
    "            shortfall_deque1.append(info.implementation_shortfall1)\n",
    "            \n",
    "            shortfall_hist2 = np.append(shortfall_hist2, info.implementation_shortfall2)\n",
    "            shortfall_deque2.append(info.implementation_shortfall2)\n",
    "            break\n",
    "        \n",
    "    if (episode + 1) % 100 == 0: # print average shortfall over last 100 episodes\n",
    "        print('\\rEpisode [{}/{}]\\tAverage Shortfall for Agent1: ${:,.2f}'.format(episode + 1, episodes, np.mean(shortfall_deque1)))        \n",
    "        print('\\rEpisode [{}/{}]\\tAverage Shortfall for Agent2: ${:,.2f}'.format(episode + 1, episodes, np.mean(shortfall_deque2)))\n",
    "        shortfall_list.append([np.mean(shortfall_deque1),np.mean(shortfall_deque2)])\n",
    "print('\\nAverage Implementation Shortfall for Agent1: ${:,.2f} \\n'.format(np.mean(shortfall_hist1)))\n",
    "print('\\nAverage Implementation Shortfall for Agent2: ${:,.2f} \\n'.format(np.mean(shortfall_hist2)))"
   ]
  },
  {
   "cell_type": "code",
   "execution_count": 12,
   "id": "57132465",
   "metadata": {},
   "outputs": [],
   "source": [
    "shortfall = np.array(shortfall_list)"
   ]
  },
  {
   "cell_type": "code",
   "execution_count": 13,
   "id": "842d1b66",
   "metadata": {},
   "outputs": [],
   "source": [
    "np.save('optimistic-competitive.npy',shortfall)"
   ]
  },
  {
   "cell_type": "code",
   "execution_count": 14,
   "id": "247266d5",
   "metadata": {},
   "outputs": [],
   "source": [
    "A = np.load('./Results/1e-6_shortfall_list.npy')\n",
    "B = np.load('optimistic-cooperative.npy')\n",
    "C = np.load('optimistic-competitive.npy')"
   ]
  },
  {
   "cell_type": "code",
   "execution_count": 15,
   "id": "1f7769fa",
   "metadata": {},
   "outputs": [],
   "source": [
    "A_list = []\n",
    "B_list = []\n",
    "C_list = []\n",
    "for i in range(len(B)):\n",
    "    A_list.append(A[i])\n",
    "    B_list.append(B[i].sum())\n",
    "    C_list.append(C[i].sum())"
   ]
  },
  {
   "cell_type": "code",
   "execution_count": 22,
   "id": "7d82185e",
   "metadata": {},
   "outputs": [],
   "source": [
    "df3 = pd.DataFrame()\n",
    "df3['Independent'] = A_list\n",
    "df3['Cooperative'] = B_list\n",
    "df3['Competitive'] = C_list"
   ]
  },
  {
   "cell_type": "code",
   "execution_count": 23,
   "id": "8479577c",
   "metadata": {},
   "outputs": [
    {
     "name": "stderr",
     "output_type": "stream",
     "text": [
      "/opt/homebrew/anaconda3/envs/reinforcement/lib/python3.7/site-packages/ipykernel_launcher.py:4: UserWarning: FixedFormatter should only be used together with FixedLocator\n",
      "  after removing the cwd from sys.path.\n",
      "/opt/homebrew/anaconda3/envs/reinforcement/lib/python3.7/site-packages/ipykernel_launcher.py:5: MatplotlibDeprecationWarning: The 'b' parameter of grid() has been renamed 'visible' since Matplotlib 3.5; support for the old name will be dropped two minor releases later.\n",
      "  \"\"\"\n"
     ]
    },
    {
     "data": {
      "image/png": "[encoded data removed]",
      "text/plain": [
       "<Figure size 640x480 with 1 Axes>"
      ]
     },
     "metadata": {},
     "output_type": "display_data"
    }
   ],
   "source": [
    "ax = sns.lineplot(data = df3)\n",
    "ax.set_ylabel('Expected Shortfall',fontsize = 20)\n",
    "ax.set_xlabel('Episodes',fontsize = 20)\n",
    "ax.set_xticklabels([0,0,400,1000,1400,2000,2600,3000],fontsize = 14)\n",
    "ax.grid(b=True, which='major', color='black', linewidth=0.5,linestyle = '--')"
   ]
  }
 ],
 "metadata": {
  "kernelspec": {
   "display_name": "rl",
   "language": "python",
   "name": "rl"
  },
  "language_info": {
   "codemirror_mode": {
    "name": "ipython",
    "version": 3
   },
   "file_extension": ".py",
   "mimetype": "text/x-python",
   "name": "python",
   "nbconvert_exporter": "python",
   "pygments_lexer": "ipython3",
   "version": "3.7.0"
  }
 },
 "nbformat": 4,
 "nbformat_minor": 5
}
